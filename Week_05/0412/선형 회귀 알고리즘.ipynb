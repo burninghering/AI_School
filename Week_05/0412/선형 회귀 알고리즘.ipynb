{
 "cells": [
  {
   "cell_type": "markdown",
   "id": "9e685a35",
   "metadata": {},
   "source": [
    "지도 학습"
   ]
  },
  {
   "cell_type": "code",
   "execution_count": 4,
   "id": "d0cca250",
   "metadata": {},
   "outputs": [],
   "source": [
    "import numpy as np\n",
    "import pandas as pd\n",
    "import matplotlib.pyplot as plt"
   ]
  },
  {
   "cell_type": "code",
   "execution_count": 5,
   "id": "8e7761c0",
   "metadata": {},
   "outputs": [],
   "source": [
    "import mglearn #데이터를 만들어주고 그림도 그려준다"
   ]
  },
  {
   "cell_type": "code",
   "execution_count": 6,
   "id": "9d47bc18",
   "metadata": {},
   "outputs": [
    {
     "name": "stdout",
     "output_type": "stream",
     "text": [
      "Requirement already satisfied: mglearn in c:\\users\\hyerin\\anaconda3\\lib\\site-packages (0.1.9)\n",
      "Requirement already satisfied: pillow in c:\\users\\hyerin\\anaconda3\\lib\\site-packages (from mglearn) (8.4.0)\n",
      "Requirement already satisfied: numpy in c:\\users\\hyerin\\anaconda3\\lib\\site-packages (from mglearn) (1.20.3)\n",
      "Requirement already satisfied: scikit-learn in c:\\users\\hyerin\\anaconda3\\lib\\site-packages (from mglearn) (1.0.2)\n",
      "Requirement already satisfied: matplotlib in c:\\users\\hyerin\\anaconda3\\lib\\site-packages (from mglearn) (3.4.3)\n",
      "Requirement already satisfied: pandas in c:\\users\\hyerin\\anaconda3\\lib\\site-packages (from mglearn) (1.3.4)\n",
      "Requirement already satisfied: cycler in c:\\users\\hyerin\\anaconda3\\lib\\site-packages (from mglearn) (0.10.0)\n",
      "Requirement already satisfied: joblib in c:\\users\\hyerin\\anaconda3\\lib\\site-packages (from mglearn) (1.1.0)\n",
      "Requirement already satisfied: imageio in c:\\users\\hyerin\\anaconda3\\lib\\site-packages (from mglearn) (2.9.0)\n",
      "Requirement already satisfied: six in c:\\users\\hyerin\\anaconda3\\lib\\site-packages (from cycler->mglearn) (1.16.0)\n",
      "Requirement already satisfied: pyparsing>=2.2.1 in c:\\users\\hyerin\\anaconda3\\lib\\site-packages (from matplotlib->mglearn) (3.0.4)\n",
      "Requirement already satisfied: kiwisolver>=1.0.1 in c:\\users\\hyerin\\anaconda3\\lib\\site-packages (from matplotlib->mglearn) (1.3.1)\n",
      "Requirement already satisfied: python-dateutil>=2.7 in c:\\users\\hyerin\\anaconda3\\lib\\site-packages (from matplotlib->mglearn) (2.8.2)\n",
      "Requirement already satisfied: pytz>=2017.3 in c:\\users\\hyerin\\anaconda3\\lib\\site-packages (from pandas->mglearn) (2021.3)\n",
      "Requirement already satisfied: scipy>=1.1.0 in c:\\users\\hyerin\\anaconda3\\lib\\site-packages (from scikit-learn->mglearn) (1.7.1)\n",
      "Requirement already satisfied: threadpoolctl>=2.0.0 in c:\\users\\hyerin\\anaconda3\\lib\\site-packages (from scikit-learn->mglearn) (2.2.0)\n"
     ]
    }
   ],
   "source": [
    "!pip install mglearn"
   ]
  },
  {
   "cell_type": "code",
   "execution_count": 17,
   "id": "163fb690",
   "metadata": {},
   "outputs": [
    {
     "ename": "TypeError",
     "evalue": "make_wave() got an unexpected keyword argument 'n_sample'",
     "output_type": "error",
     "traceback": [
      "\u001b[1;31m---------------------------------------------------------------------------\u001b[0m",
      "\u001b[1;31mTypeError\u001b[0m                                 Traceback (most recent call last)",
      "\u001b[1;32m~\\AppData\\Local\\Temp/ipykernel_14288/3805783664.py\u001b[0m in \u001b[0;36m<module>\u001b[1;34m\u001b[0m\n\u001b[0;32m      1\u001b[0m \u001b[1;31m#지도 학습 알고리즘\u001b[0m\u001b[1;33m\u001b[0m\u001b[1;33m\u001b[0m\u001b[0m\n\u001b[0;32m      2\u001b[0m \u001b[0mX\u001b[0m\u001b[1;33m,\u001b[0m\u001b[0my\u001b[0m \u001b[1;33m=\u001b[0m \u001b[0mmglearn\u001b[0m\u001b[1;33m.\u001b[0m\u001b[0mdatasets\u001b[0m\u001b[1;33m.\u001b[0m\u001b[0mmake_forge\u001b[0m\u001b[1;33m(\u001b[0m\u001b[1;33m)\u001b[0m\u001b[1;31m#대문자 x는 Label, 소문자 y는 Feature\u001b[0m\u001b[1;33m\u001b[0m\u001b[1;33m\u001b[0m\u001b[0m\n\u001b[1;32m----> 3\u001b[1;33m \u001b[0mX\u001b[0m\u001b[1;33m,\u001b[0m\u001b[0my\u001b[0m \u001b[1;33m=\u001b[0m \u001b[0mmglearn\u001b[0m\u001b[1;33m.\u001b[0m\u001b[0mdatasets\u001b[0m\u001b[1;33m.\u001b[0m\u001b[0mmake_wave\u001b[0m\u001b[1;33m(\u001b[0m\u001b[0mn_sample\u001b[0m\u001b[1;33m=\u001b[0m\u001b[1;36m40\u001b[0m\u001b[1;33m)\u001b[0m \u001b[1;31m#40개의 샘플 불러오기\u001b[0m\u001b[1;33m\u001b[0m\u001b[1;33m\u001b[0m\u001b[0m\n\u001b[0m\u001b[0;32m      4\u001b[0m \u001b[1;31m#mglearn은 삼각형 그림을 그릴 수 있는 메소드이다.\u001b[0m\u001b[1;33m\u001b[0m\u001b[1;33m\u001b[0m\u001b[0m\n\u001b[0;32m      5\u001b[0m \u001b[1;33m\u001b[0m\u001b[0m\n",
      "\u001b[1;31mTypeError\u001b[0m: make_wave() got an unexpected keyword argument 'n_sample'"
     ]
    }
   ],
   "source": [
    "#지도 학습 알고리즘\n",
    "X,y = mglearn.datasets.make_forge()#대문자 x는 Label, 소문자 y는 Feature\n",
    "X,y = mglearn.datasets.make_wave(n_sample=40) #40개의 샘플 불러오기\n",
    "#mglearn은 삼각형 그림을 그릴 수 있는 메소드이다.\n",
    "\n",
    "#여태까지는 plt.plot으로 그렸으나 편하게 mglearn이 마련해놨다\n",
    "mglearn.discrete_scatter(X[:,0], X[:,1], y) #X축이 각각 x,y축 / y의 값들이 동그라미, 세모\n",
    "\n",
    "plt.xlabel('First')\n",
    "plt.ylabel('Second')\n",
    "plt.legend() #범주를 보여주기 위해 legend 사용\n",
    "print(X.shape) #y의 값을 나타냄"
   ]
  },
  {
   "cell_type": "code",
   "execution_count": 18,
   "id": "5bdb6abf",
   "metadata": {},
   "outputs": [
    {
     "name": "stderr",
     "output_type": "stream",
     "text": [
      "No handles with labels found to put in legend.\n"
     ]
    },
    {
     "name": "stdout",
     "output_type": "stream",
     "text": [
      "(40, 1)\n"
     ]
    },
    {
     "data": {
      "image/png": "[encoded data removed]",
      "text/plain": [
       "<Figure size 432x288 with 1 Axes>"
      ]
     },
     "metadata": {
      "needs_background": "light"
     },
     "output_type": "display_data"
    }
   ],
   "source": [
    "#지도 학습 알고리즘\n",
    "X,y = mglearn.datasets.make_wave(n_samples=40) #40개의 샘플 불러오기 (분포를 만들 때 사용하는 make_wave)\n",
    "#mglearn은 삼각형 그림을 그릴 수 있는 메소드이다.\n",
    "\n",
    "plt.plot(X,y,'o')\n",
    "plt.ylim(-3,3) #폭을 -3에서 3까지 지정\n",
    "\n",
    "plt.xlabel('Feature')\n",
    "plt.ylabel('Label')\n",
    "plt.legend() #범주를 보여주기 위해 legend 사용\n",
    "print(X.shape) #y의 값을 나타냄"
   ]
  },
  {
   "cell_type": "code",
   "execution_count": 19,
   "id": "c1392472",
   "metadata": {},
   "outputs": [
    {
     "name": "stdout",
     "output_type": "stream",
     "text": [
      "dict_keys(['data', 'target', 'frame', 'target_names', 'DESCR', 'feature_names', 'filename', 'data_module'])\n"
     ]
    }
   ],
   "source": [
    "from sklearn.datasets import load_breast_cancer\n",
    "cancer=load_breast_cancer() #데이터를 가지고 옴\n",
    "print(cancer.keys()) #키값 확인\n",
    "\n",
    "#feature_names가 키!\n",
    "#Numpy배열안에 키값들이 들어있음"
   ]
  },
  {
   "cell_type": "code",
   "execution_count": 20,
   "id": "a982f79e",
   "metadata": {},
   "outputs": [
    {
     "data": {
      "text/plain": [
       "(569, 30)"
      ]
     },
     "execution_count": 20,
     "metadata": {},
     "output_type": "execute_result"
    }
   ],
   "source": [
    "cancer.data.shape #유방암 데이터의 Feature 30개의 요소로 인해 유방암이 정의되어 있고, 그 데이터가 569개 쌓여있다"
   ]
  },
  {
   "cell_type": "code",
   "execution_count": 21,
   "id": "4118f5ce",
   "metadata": {},
   "outputs": [
    {
     "data": {
      "text/plain": [
       "array(['mean radius', 'mean texture', 'mean perimeter', 'mean area',\n",
       "       'mean smoothness', 'mean compactness', 'mean concavity',\n",
       "       'mean concave points', 'mean symmetry', 'mean fractal dimension',\n",
       "       'radius error', 'texture error', 'perimeter error', 'area error',\n",
       "       'smoothness error', 'compactness error', 'concavity error',\n",
       "       'concave points error', 'symmetry error',\n",
       "       'fractal dimension error', 'worst radius', 'worst texture',\n",
       "       'worst perimeter', 'worst area', 'worst smoothness',\n",
       "       'worst compactness', 'worst concavity', 'worst concave points',\n",
       "       'worst symmetry', 'worst fractal dimension'], dtype='<U23')"
      ]
     },
     "execution_count": 21,
     "metadata": {},
     "output_type": "execute_result"
    }
   ],
   "source": [
    "#cancer.target #malignant #benign\n",
    "\n",
    "cancer.target_names #데이터의 내용 확인해보기\n",
    "#타겟의 종류 양성/음성 두개로 구별되어있다\n",
    "\n",
    "cancer.feature_names #30개의 요소에 의해 유방암이 결정된다."
   ]
  },
  {
   "cell_type": "code",
   "execution_count": 22,
   "id": "b0b1f2b1",
   "metadata": {},
   "outputs": [
    {
     "name": "stderr",
     "output_type": "stream",
     "text": [
      "C:\\Users\\hyerin\\anaconda3\\lib\\site-packages\\sklearn\\utils\\deprecation.py:87: FutureWarning: Function make_blobs is deprecated; Please import make_blobs directly from scikit-learn\n",
      "  warnings.warn(msg, category=FutureWarning)\n"
     ]
    },
    {
     "data": {
      "image/png": "[encoded data removed]",
      "text/plain": [
       "<Figure size 432x288 with 1 Axes>"
      ]
     },
     "metadata": {
      "needs_background": "light"
     },
     "output_type": "display_data"
    }
   ],
   "source": [
    "#k 최근접 데이터 \n",
    "\n",
    "mglearn.plots.plot_knn_classification(n_neighbors=1) #classfication데이터를 눈으로 볼 수 있고, 최근접 데이터를 1개로 놓는다\n",
    "\n",
    "\n",
    "#세모는 타겟 데이터의 2번\n",
    "#기준이 1개이기 때문에 주황 별 1개\n"
   ]
  },
  {
   "cell_type": "code",
   "execution_count": 23,
   "id": "4ce2ff82",
   "metadata": {},
   "outputs": [
    {
     "name": "stderr",
     "output_type": "stream",
     "text": [
      "C:\\Users\\hyerin\\anaconda3\\lib\\site-packages\\sklearn\\utils\\deprecation.py:87: FutureWarning: Function make_blobs is deprecated; Please import make_blobs directly from scikit-learn\n",
      "  warnings.warn(msg, category=FutureWarning)\n"
     ]
    },
    {
     "data": {
      "image/png": "[encoded data removed]",
      "text/plain": [
       "<Figure size 432x288 with 1 Axes>"
      ]
     },
     "metadata": {
      "needs_background": "light"
     },
     "output_type": "display_data"
    }
   ],
   "source": [
    "mglearn.plots.plot_knn_classification(n_neighbors=3)\n",
    "\n",
    "#최근접 알고리즘\n",
    "#근처에 가까운 것만 찾으면 되니까 속도가 빠르다"
   ]
  },
  {
   "cell_type": "markdown",
   "id": "4686cbc8",
   "metadata": {},
   "source": [
    "데이터를 학습하기 위해선 데이터를 쪼개야 한다. \n",
    "(일반적으로 학습을 위한 train set / 테스트를 위한 test set으로,\n",
    "또한 검증용으로 vailidation으로 3개로 만들기도 한다)"
   ]
  },
  {
   "cell_type": "code",
   "execution_count": 24,
   "id": "703d0caf",
   "metadata": {},
   "outputs": [
    {
     "name": "stderr",
     "output_type": "stream",
     "text": [
      "C:\\Users\\hyerin\\anaconda3\\lib\\site-packages\\sklearn\\utils\\deprecation.py:87: FutureWarning: Function make_blobs is deprecated; Please import make_blobs directly from scikit-learn\n",
      "  warnings.warn(msg, category=FutureWarning)\n"
     ]
    }
   ],
   "source": [
    "from sklearn.model_selection import train_test_split #데이터 쪼개는 역할\n",
    "X,y=mglearn.datasets.make_forge() #위에서 본 데이터가 똑같이 생성된다\n",
    "\n",
    "X_train, X_test, y_train, y_test = train_test_split(X, y, random_state=0) #0을 안주면 무작위로 섞기 때문에 0을 주고 선생님과 결과를 맞춘다"
   ]
  },
  {
   "cell_type": "code",
   "execution_count": 25,
   "id": "a456eac3",
   "metadata": {},
   "outputs": [],
   "source": [
    "from sklearn.neighbors import KNeighborsClassifier #sklearn의 최근접 알고리즘 세팅 \n",
    "clf = KNeighborsClassifier(n_neighbors=5) #인자=최근접을 몇개까지 감안하는 알고리즘을 사용할 것인가"
   ]
  },
  {
   "cell_type": "code",
   "execution_count": 26,
   "id": "1cbba201",
   "metadata": {},
   "outputs": [
    {
     "data": {
      "text/plain": [
       "KNeighborsClassifier()"
      ]
     },
     "execution_count": 26,
     "metadata": {},
     "output_type": "execute_result"
    }
   ],
   "source": [
    "#학습 시키기\n",
    "clf.fit(X_train, y_train) #학습용 데이터의 라벨을 주고 학습시킨다"
   ]
  },
  {
   "cell_type": "code",
   "execution_count": 27,
   "id": "c9ff57c1",
   "metadata": {},
   "outputs": [
    {
     "data": {
      "text/plain": [
       "array([1, 0, 1, 0, 1, 0, 0])"
      ]
     },
     "execution_count": 27,
     "metadata": {},
     "output_type": "execute_result"
    }
   ],
   "source": [
    "clf.predict(X_test)  #예상에 의한 결과"
   ]
  },
  {
   "cell_type": "code",
   "execution_count": 28,
   "id": "bc6e8876",
   "metadata": {},
   "outputs": [
    {
     "data": {
      "text/plain": [
       "0.8571428571428571"
      ]
     },
     "execution_count": 28,
     "metadata": {},
     "output_type": "execute_result"
    }
   ],
   "source": [
    "clf.score(X_test,y_test) #예상 데이터, 오리지날 데이터로 점수 매기기"
   ]
  },
  {
   "cell_type": "code",
   "execution_count": 29,
   "id": "37ee7c25",
   "metadata": {},
   "outputs": [
    {
     "data": {
      "image/png": "[encoded data removed]",
      "text/plain": [
       "<Figure size 720x216 with 3 Axes>"
      ]
     },
     "metadata": {},
     "output_type": "display_data"
    }
   ],
   "source": [
    "fig,axes=plt.subplots(1,3, figsize=(10,3)) #한 라인에 그림(서브 플롯)을 세 개 그릴 수 있으며 사이즈는 10,3\n",
    "for n_neighbors, ax in zip([1,3,9], axes): #최근접으로 분류하기\n",
    "    \n",
    "    clf = KNeighborsClassifier(n_neighbors=n_neighbors)\n",
    "    clf.fit(X, y)\n",
    "    mglearn.plots.plot_2d_separator(clf, X, fill=True, eps=0.5, ax=ax,#2차원으로 쪼개진 것을 보여주겠다\n",
    "                                  alpha=0.4)\n",
    "    \n",
    "    mglearn.discrete_scatter(X[:,0], X[:,1], y, ax=ax) #x의 1번 축/x의 2번 축/ y값 /축\n",
    "    \n",
    "    #근접이 1개, 3개, 9개인 그래프가 나타남"
   ]
  },
  {
   "cell_type": "code",
   "execution_count": 30,
   "id": "da25af93",
   "metadata": {},
   "outputs": [],
   "source": [
    "from sklearn.datasets import load_breast_cancer #데이터 다시 준비하기\n",
    "\n",
    "cancer = load_breast_cancer()\n",
    "X_train, X_test, y_train, y_test = train_test_split(\n",
    "    cancer.data, cancer.target, random_state=66)\n",
    "\n",
    "training_accuracy=[]\n",
    "test_accuracy=[]\n",
    "\n",
    "neighbors_settings=range(1,11) #최근접을 1개부터 11개까지 바꿔가며 최근접 알고리즘 실행\n",
    "\n",
    "for n_neighbors in neighbors_settings:\n",
    "    clf=KNeighborsClassifier(n_neighbors=n_neighbors) #알고리즘 적용 \n",
    "    clf.fit(X_train,y_train) #학습\n",
    "    \n",
    "    training_accuracy.append(clf.score(X_train,y_train)) #학습, 훈련 결과물\n",
    "    test_accuracy.append(clf.score(X_test,y_test)) #테스트 정확도"
   ]
  },
  {
   "cell_type": "code",
   "execution_count": 31,
   "id": "d69e25e5",
   "metadata": {},
   "outputs": [
    {
     "name": "stdout",
     "output_type": "stream",
     "text": [
      "[1.0, 0.9671361502347418, 0.9671361502347418, 0.9553990610328639, 0.9483568075117371, 0.9483568075117371, 0.9436619718309859, 0.9413145539906104, 0.9460093896713615, 0.9413145539906104]\n",
      "[0.9230769230769231, 0.9020979020979021, 0.9230769230769231, 0.916083916083916, 0.916083916083916, 0.916083916083916, 0.9090909090909091, 0.9090909090909091, 0.9090909090909091, 0.9090909090909091]\n"
     ]
    }
   ],
   "source": [
    "print(training_accuracy) #학습 정확도 : 학습 정확도만을 높이는 것은 정답이 아니다\n",
    "print(test_accuracy) #테스트 정확도"
   ]
  },
  {
   "cell_type": "code",
   "execution_count": 32,
   "id": "a508de6d",
   "metadata": {},
   "outputs": [
    {
     "data": {
      "text/plain": [
       "Text(0, 0.5, 'Accuracy')"
      ]
     },
     "execution_count": 32,
     "metadata": {},
     "output_type": "execute_result"
    },
    {
     "data": {
      "image/png": "[encoded data removed]",
      "text/plain": [
       "<Figure size 432x288 with 1 Axes>"
      ]
     },
     "metadata": {
      "needs_background": "light"
     },
     "output_type": "display_data"
    }
   ],
   "source": [
    "#그러므로 그래프를 그려보자\n",
    "plt.plot(neighbors_settings,training_accuracy,label='training accuracy') #x축은 최근접의 개수, y는 정확도\n",
    "plt.plot(neighbors_settings,test_accuracy,label='test accuracy')\n",
    "plt.legend() #그래프 안의 범례를 표시\n",
    "plt.xlabel('n neighbors')\n",
    "plt.ylabel('Accuracy') #두 가지 결과의 정확도가 나옴\n",
    "\n",
    "#파랑 - 학습이 잘 되었는가?\n",
    "#노랑 - 학습 데이터로 잘 테스트하였는가?"
   ]
  },
  {
   "cell_type": "code",
   "execution_count": 33,
   "id": "342237fb",
   "metadata": {},
   "outputs": [
    {
     "data": {
      "image/png": "[encoded data removed]",
      "text/plain": [
       "<Figure size 720x432 with 1 Axes>"
      ]
     },
     "metadata": {
      "needs_background": "light"
     },
     "output_type": "display_data"
    }
   ],
   "source": [
    "# Regression\n",
    "\n",
    "mglearn.plots.plot_knn_regression(n_neighbors=1) #회귀 또한 최근접 알고리즘이므로 최근접을 1개로 설정"
   ]
  },
  {
   "cell_type": "code",
   "execution_count": 34,
   "id": "42bce83a",
   "metadata": {},
   "outputs": [
    {
     "data": {
      "image/png": "[encoded data removed]",
      "text/plain": [
       "<Figure size 720x432 with 1 Axes>"
      ]
     },
     "metadata": {
      "needs_background": "light"
     },
     "output_type": "display_data"
    }
   ],
   "source": [
    "mglearn.plots.plot_knn_regression(n_neighbors=3) #3개를 근접하는 그래프 (별이 중심)"
   ]
  },
  {
   "cell_type": "code",
   "execution_count": 35,
   "id": "63563adc",
   "metadata": {},
   "outputs": [
    {
     "data": {
      "text/plain": [
       "KNeighborsRegressor(n_neighbors=3)"
      ]
     },
     "execution_count": 35,
     "metadata": {},
     "output_type": "execute_result"
    }
   ],
   "source": [
    "from sklearn.neighbors import KNeighborsRegressor\n",
    "X,y=mglearn.datasets.make_wave(n_samples=40) #샘플 40개의 데이터를 만듦\n",
    "X_train, X_test, y_train, y_test=train_test_split(X,y,random_state=0)\n",
    "\n",
    "reg=KNeighborsRegressor(n_neighbors=3)\n",
    "reg.fit(X_train,y_train) #두 개의 값으로 훈련시키기\n",
    "\n",
    "#이제 reg가 학습을 다 했으니 이것저것 물어보자"
   ]
  },
  {
   "cell_type": "code",
   "execution_count": 36,
   "id": "4e676c4e",
   "metadata": {},
   "outputs": [
    {
     "data": {
      "text/plain": [
       "array([-0.05396539,  0.35686046,  1.13671923, -1.89415682, -1.13881398,\n",
       "       -1.63113382,  0.35686046,  0.91241374, -0.44680446, -1.13881398])"
      ]
     },
     "execution_count": 36,
     "metadata": {},
     "output_type": "execute_result"
    }
   ],
   "source": [
    "reg.predict(X_test) #예측을 해보자\n",
    "#학습 결과가 x, 테스트 결과가 x = 정답용 y라벨의 학습 결과는 y', 테스트 결과는 y'\n",
    "#이것을 x와 y'로 비교해본다"
   ]
  },
  {
   "cell_type": "code",
   "execution_count": 37,
   "id": "a47504e2",
   "metadata": {},
   "outputs": [
    {
     "data": {
      "text/plain": [
       "0.8344172446249605"
      ]
     },
     "execution_count": 37,
     "metadata": {},
     "output_type": "execute_result"
    }
   ],
   "source": [
    "#얼마나 정확한 지 보려면 score를 사용해보자\n",
    "reg.score(X_test, y_test)"
   ]
  },
  {
   "cell_type": "code",
   "execution_count": 38,
   "id": "32f66b69",
   "metadata": {},
   "outputs": [
    {
     "data": {
      "image/png": "[encoded data removed]",
      "text/plain": [
       "<Figure size 1080x288 with 3 Axes>"
      ]
     },
     "metadata": {
      "needs_background": "light"
     },
     "output_type": "display_data"
    }
   ],
   "source": [
    "#비교를 위해 3개를 그려보자\n",
    "\n",
    "fig, axes = plt.subplots(1,3, figsize=(15,4)) #x축과 y축을 변수로 받기\n",
    "\n",
    "line = np.linspace(-3, 3, 1000).reshape(-1, 1) #-3~3 사이에 임의의 1000개의 데이터를 만들어라\n",
    "\n",
    "\n",
    "for n_neighbors, ax in zip([1,3,9], axes):\n",
    "\n",
    "  reg = KNeighborsRegressor(n_neighbors=n_neighbors)\n",
    "  reg.fit(X_train, y_train)\n",
    "  ax.plot(line, reg.predict(line)) #1개는 꼬불꼬불, 3개는 부드럽게, 9개는 특성이 뭉개짐\n",
    "  ax.plot(X_train,y_train,'^',markersize=8) #학습용 데이터 주황색 ^ 마크로 나옴!\n",
    "    #1개는 학습용 데이터의 특성에 너무 딱 맞게 되어 임의의 데이터를 못 따라가는 오차가 커지게 됨\n",
    "    #3개는 3개를 기준으로 통과해나감\n",
    "    \n",
    "#실제 학습용 데이터의 값도 그려보자\n",
    "  ax.plot(X_test,y_test,'v',markersize=8)\n",
    "#주황색이 예측, 초록색이 정답... 1은 완전 어긋, 3은 유사, 9는 앞부분만 맞고 뒷부분만 맞음 -> 정확도 유추 가능\n",
    "\n",
    "  ax.set_xlabel('Feature')\n",
    "  ax.set_ylabel('target')"
   ]
  },
  {
   "cell_type": "code",
   "execution_count": 39,
   "id": "9d0ff492",
   "metadata": {},
   "outputs": [
    {
     "name": "stdout",
     "output_type": "stream",
     "text": [
      "w[0]: 0.393906  b: -0.031804\n"
     ]
    },
    {
     "data": {
      "image/png": "[encoded data removed]",
      "text/plain": [
       "<Figure size 576x576 with 1 Axes>"
      ]
     },
     "metadata": {
      "needs_background": "light"
     },
     "output_type": "display_data"
    }
   ],
   "source": [
    "#np.linspace(-3, 3, 10).reshape(-1,1) #-1,1로 형태를 바꾸면 모양이 배열의 전체 요소가 가지런하게 세로로 나옴 \n",
    "mglearn.plots.plot_linear_regression_wave()"
   ]
  },
  {
   "cell_type": "code",
   "execution_count": 40,
   "id": "1fc79f50",
   "metadata": {},
   "outputs": [],
   "source": [
    "from sklearn.linear_model import LinearRegression\n",
    "X, y = mglearn.datasets.make_wave(n_samples=60)\n",
    "#선형 회귀 그래프X, y = mglearn.datasets.make_wave(n_samples=60)\n",
    "\n",
    "X_train, X_test, y_train, y_test = train_test_split(X, y, random_state=42)\n",
    "\n",
    "lr = LinearRegression().fit(X_train, y_train)"
   ]
  },
  {
   "cell_type": "code",
   "execution_count": 41,
   "id": "2cd30e71",
   "metadata": {},
   "outputs": [
    {
     "name": "stdout",
     "output_type": "stream",
     "text": [
      "[0.39390555]\n",
      "-0.031804343026759746\n"
     ]
    }
   ],
   "source": [
    "print(lr.coef_)\n",
    "print(lr.intercept_)"
   ]
  },
  {
   "cell_type": "code",
   "execution_count": 42,
   "id": "c1bc1f41",
   "metadata": {},
   "outputs": [
    {
     "data": {
      "text/plain": [
       "0.6700890315075756"
      ]
     },
     "execution_count": 42,
     "metadata": {},
     "output_type": "execute_result"
    }
   ],
   "source": [
    "lr.score(X_train, y_train)"
   ]
  },
  {
   "cell_type": "code",
   "execution_count": 43,
   "id": "3f305f62",
   "metadata": {},
   "outputs": [
    {
     "name": "stderr",
     "output_type": "stream",
     "text": [
      "C:\\Users\\hyerin\\anaconda3\\lib\\site-packages\\sklearn\\utils\\deprecation.py:87: FutureWarning: Function load_boston is deprecated; `load_boston` is deprecated in 1.0 and will be removed in 1.2.\n",
      "\n",
      "    The Boston housing prices dataset has an ethical problem. You can refer to\n",
      "    the documentation of this function for further details.\n",
      "\n",
      "    The scikit-learn maintainers therefore strongly discourage the use of this\n",
      "    dataset unless the purpose of the code is to study and educate about\n",
      "    ethical issues in data science and machine learning.\n",
      "\n",
      "    In this special case, you can fetch the dataset from the original\n",
      "    source::\n",
      "\n",
      "        import pandas as pd\n",
      "        import numpy as np\n",
      "\n",
      "\n",
      "        data_url = \"http://lib.stat.cmu.edu/datasets/boston\"\n",
      "        raw_df = pd.read_csv(data_url, sep=\"\\s+\", skiprows=22, header=None)\n",
      "        data = np.hstack([raw_df.values[::2, :], raw_df.values[1::2, :2]])\n",
      "        target = raw_df.values[1::2, 2]\n",
      "\n",
      "    Alternative datasets include the California housing dataset (i.e.\n",
      "    :func:`~sklearn.datasets.fetch_california_housing`) and the Ames housing\n",
      "    dataset. You can load the datasets as follows::\n",
      "\n",
      "        from sklearn.datasets import fetch_california_housing\n",
      "        housing = fetch_california_housing()\n",
      "\n",
      "    for the California housing dataset and::\n",
      "\n",
      "        from sklearn.datasets import fetch_openml\n",
      "        housing = fetch_openml(name=\"house_prices\", as_frame=True)\n",
      "\n",
      "    for the Ames housing dataset.\n",
      "    \n",
      "  warnings.warn(msg, category=FutureWarning)\n"
     ]
    }
   ],
   "source": [
    "X, y = mglearn.datasets.load_extended_boston()\n",
    "\n",
    "X_train, X_test, y_train, y_test = train_test_split(X, y, random_state=0)\n",
    "lr = LinearRegression().fit(X_train, y_train)"
   ]
  },
  {
   "cell_type": "code",
   "execution_count": 44,
   "id": "51fd592b",
   "metadata": {},
   "outputs": [
    {
     "name": "stdout",
     "output_type": "stream",
     "text": [
      "0.9520519609032729\n",
      "0.6074721959665752\n"
     ]
    }
   ],
   "source": [
    "print(lr.score(X_train, y_train))\n",
    "print(lr.score(X_test,y_test))"
   ]
  },
  {
   "cell_type": "code",
   "execution_count": 45,
   "id": "1c344052",
   "metadata": {},
   "outputs": [
    {
     "name": "stdout",
     "output_type": "stream",
     "text": [
      "0.885796658517094\n",
      "0.7527683481744755\n"
     ]
    }
   ],
   "source": [
    "# Ridge / 릿지 알고리즘\n",
    "from sklearn.linear_model import Ridge\n",
    "\n",
    "ridge=Ridge().fit(X_train,y_train)\n",
    "\n",
    "print(ridge.score(X_train,y_train))\n",
    "print(ridge.score(X_test,y_test))"
   ]
  },
  {
   "cell_type": "code",
   "execution_count": 46,
   "id": "871a1db7",
   "metadata": {},
   "outputs": [
    {
     "name": "stdout",
     "output_type": "stream",
     "text": [
      "0.7882787115369614\n",
      "0.635941148917731\n"
     ]
    }
   ],
   "source": [
    "ridge10=Ridge(alpha=10).fit(X_train,y_train) #alpha -> 학습을 더 이상 못하게 하는 제약값\n",
    "\n",
    "print(ridge10.score(X_train,y_train))\n",
    "print(ridge10.score(X_test,y_test))"
   ]
  },
  {
   "cell_type": "code",
   "execution_count": 53,
   "id": "a8f4ebb5",
   "metadata": {},
   "outputs": [
    {
     "name": "stdout",
     "output_type": "stream",
     "text": [
      "0.9282273685001985\n",
      "0.772206793647982\n"
     ]
    }
   ],
   "source": [
    "ridge01 = Ridge(alpha=0.1).fit(X_train, y_train) #제약을 완전 풀어줌\n",
    "\n",
    "print(ridge01.score(X_train, y_train))\n",
    "print(ridge01.score(X_test, y_test))"
   ]
  },
  {
   "cell_type": "code",
   "execution_count": 54,
   "id": "8a00c567",
   "metadata": {},
   "outputs": [
    {
     "data": {
      "text/plain": [
       "<matplotlib.legend.Legend at 0x25b800c3d00>"
      ]
     },
     "execution_count": 54,
     "metadata": {},
     "output_type": "execute_result"
    },
    {
     "data": {
      "image/png": "[encoded data removed]",
      "text/plain": [
       "<Figure size 432x288 with 1 Axes>"
      ]
     },
     "metadata": {
      "needs_background": "light"
     },
     "output_type": "display_data"
    }
   ],
   "source": [
    "plt.plot(ridge.coef_, 's', label='Ridge alpha=1')\n",
    "plt.plot(ridge10.coef_, '^', label='Ridge alpha=10')\n",
    "plt.plot(ridge01.coef_, 'v', label='Ridge alpha=0.1')\n",
    "\n",
    "plt.legend()"
   ]
  },
  {
   "cell_type": "code",
   "execution_count": 55,
   "id": "f6865af3",
   "metadata": {},
   "outputs": [
    {
     "name": "stdout",
     "output_type": "stream",
     "text": [
      "0.29323768991114607\n",
      "0.20937503255272294\n"
     ]
    }
   ],
   "source": [
    "#Lasso 알고리즘 (회귀 알고리즘)\n",
    "\n",
    "from sklearn.linear_model import Lasso\n",
    "\n",
    "lasso=Lasso().fit(X_train,y_train)\n",
    "\n",
    "print(lasso.score(X_train,y_train))\n",
    "print(lasso.score(X_test,y_test))"
   ]
  },
  {
   "cell_type": "code",
   "execution_count": 57,
   "id": "2440678b",
   "metadata": {},
   "outputs": [
    {
     "name": "stdout",
     "output_type": "stream",
     "text": [
      "0.8961122320864717\n",
      "0.7677995670886713\n"
     ]
    },
    {
     "name": "stderr",
     "output_type": "stream",
     "text": [
      "C:\\Users\\hyerin\\anaconda3\\lib\\site-packages\\sklearn\\linear_model\\_coordinate_descent.py:647: ConvergenceWarning: Objective did not converge. You might want to increase the number of iterations, check the scale of the features or consider increasing regularisation. Duality gap: 4.690e+01, tolerance: 3.233e+00\n",
      "  model = cd_fast.enet_coordinate_descent(\n"
     ]
    }
   ],
   "source": [
    "lasso001 = Lasso(alpha=0.01).fit(X_train, y_train)\n",
    "\n",
    "print(lasso001.score(X_train, y_train))\n",
    "print(lasso001.score(X_test, y_test))"
   ]
  },
  {
   "cell_type": "code",
   "execution_count": 58,
   "id": "90533b8c",
   "metadata": {},
   "outputs": [
    {
     "name": "stdout",
     "output_type": "stream",
     "text": [
      "0.9420931515237063\n",
      "0.6976541391663642\n"
     ]
    },
    {
     "name": "stderr",
     "output_type": "stream",
     "text": [
      "C:\\Users\\hyerin\\anaconda3\\lib\\site-packages\\sklearn\\linear_model\\_coordinate_descent.py:647: ConvergenceWarning: Objective did not converge. You might want to increase the number of iterations, check the scale of the features or consider increasing regularisation. Duality gap: 9.440e+02, tolerance: 3.233e+00\n",
      "  model = cd_fast.enet_coordinate_descent(\n"
     ]
    }
   ],
   "source": [
    "lasso00001 = Lasso(alpha=0.0001).fit(X_train, y_train)\n",
    "\n",
    "print(lasso00001.score(X_train, y_train))\n",
    "print(lasso00001.score(X_test, y_test))"
   ]
  },
  {
   "cell_type": "code",
   "execution_count": 59,
   "id": "11ea91d1",
   "metadata": {},
   "outputs": [
    {
     "name": "stdout",
     "output_type": "stream",
     "text": [
      "0.9426383219008585\n",
      "0.6916323869060191\n"
     ]
    },
    {
     "name": "stderr",
     "output_type": "stream",
     "text": [
      "C:\\Users\\hyerin\\AppData\\Local\\Temp/ipykernel_14288/391880492.py:1: UserWarning: With alpha=0, this algorithm does not converge well. You are advised to use the LinearRegression estimator\n",
      "  lasso0 = Lasso(alpha=0).fit(X_train, y_train)\n",
      "C:\\Users\\hyerin\\anaconda3\\lib\\site-packages\\sklearn\\linear_model\\_coordinate_descent.py:647: UserWarning: Coordinate descent with no regularization may lead to unexpected results and is discouraged.\n",
      "  model = cd_fast.enet_coordinate_descent(\n",
      "C:\\Users\\hyerin\\anaconda3\\lib\\site-packages\\sklearn\\linear_model\\_coordinate_descent.py:647: ConvergenceWarning: Objective did not converge. You might want to increase the number of iterations, check the scale of the features or consider increasing regularisation. Duality gap: 9.273e+02, tolerance: 3.233e+00 Linear regression models with null weight for the l1 regularization term are more efficiently fitted using one of the solvers implemented in sklearn.linear_model.Ridge/RidgeCV instead.\n",
      "  model = cd_fast.enet_coordinate_descent(\n"
     ]
    }
   ],
   "source": [
    "lasso0 = Lasso(alpha=0).fit(X_train, y_train) #제약 없이 마음껏 학습했음\n",
    "\n",
    "print(lasso0.score(X_train, y_train))\n",
    "print(lasso0.score(X_test, y_test))"
   ]
  },
  {
   "cell_type": "markdown",
   "id": "fcb673ec",
   "metadata": {},
   "source": [
    "여태까지 배운 선형 회귀 알고리즘 : \n",
    "최근접\n",
    "리니어\n",
    "라쏘\n",
    "릿지\n",
    "(제약을 걸어서 일반 데이터에도 적용이 가능하게 한다, 제약에도 여러가지 종류가 있다!)\n",
    "\n",
    "지금까지는 예측하는 용도로만 회귀를 사용함\n",
    "\n",
    "이제는 분류에 대한 선형 모델 배울 예정!"
   ]
  },
  {
   "cell_type": "code",
   "execution_count": 63,
   "id": "e0d2c5e5",
   "metadata": {},
   "outputs": [
    {
     "name": "stderr",
     "output_type": "stream",
     "text": [
      "C:\\Users\\hyerin\\anaconda3\\lib\\site-packages\\sklearn\\utils\\deprecation.py:87: FutureWarning: Function make_blobs is deprecated; Please import make_blobs directly from scikit-learn\n",
      "  warnings.warn(msg, category=FutureWarning)\n",
      "C:\\Users\\hyerin\\anaconda3\\lib\\site-packages\\sklearn\\svm\\_base.py:1206: ConvergenceWarning: Liblinear failed to converge, increase the number of iterations.\n",
      "  warnings.warn(\n"
     ]
    },
    {
     "data": {
      "image/png": "[encoded data removed]",
      "text/plain": [
       "<Figure size 720x216 with 2 Axes>"
      ]
     },
     "metadata": {},
     "output_type": "display_data"
    }
   ],
   "source": [
    "#분류에 대한 선형 모델 \n",
    "from sklearn.linear_model import LogisticRegression\n",
    "from sklearn.svm import LinearSVC\n",
    "\n",
    "X, y = mglearn.datasets.make_forge()\n",
    "\n",
    "fig, axes = plt.subplots(1,2, figsize=(10, 3))\n",
    "\n",
    "for model, ax in zip([LinearSVC(), LogisticRegression()], axes):\n",
    "  clf = model.fit(X, y)\n",
    "\n",
    "  mglearn.plots.plot_2d_separator(clf, X, fill=False, eps=0.5,alpha=0.7, ax=ax)\n",
    "\n",
    "  mglearn.discrete_scatter(X[:,0],X[:,1],y,ax=ax) #학습에 사용됐던 데이터가 x,y에 따라 다른 모양으로 나타나게 됨"
   ]
  },
  {
   "cell_type": "code",
   "execution_count": 64,
   "id": "1fc06056",
   "metadata": {},
   "outputs": [
    {
     "data": {
      "image/png": "[encoded data removed]",
      "text/plain": [
       "<Figure size 864x288 with 3 Axes>"
      ]
     },
     "metadata": {},
     "output_type": "display_data"
    }
   ],
   "source": [
    "mglearn.plots.plot_linear_svc_regularization()"
   ]
  },
  {
   "cell_type": "code",
   "execution_count": 69,
   "id": "ba123632",
   "metadata": {},
   "outputs": [
    {
     "name": "stdout",
     "output_type": "stream",
     "text": [
      "0.9413145539906104\n",
      "0.965034965034965\n"
     ]
    },
    {
     "name": "stderr",
     "output_type": "stream",
     "text": [
      "C:\\Users\\hyerin\\anaconda3\\lib\\site-packages\\sklearn\\linear_model\\_logistic.py:814: ConvergenceWarning: lbfgs failed to converge (status=1):\n",
      "STOP: TOTAL NO. of ITERATIONS REACHED LIMIT.\n",
      "\n",
      "Increase the number of iterations (max_iter) or scale the data as shown in:\n",
      "    https://scikit-learn.org/stable/modules/preprocessing.html\n",
      "Please also refer to the documentation for alternative solver options:\n",
      "    https://scikit-learn.org/stable/modules/linear_model.html#logistic-regression\n",
      "  n_iter_i = _check_optimize_result(\n"
     ]
    }
   ],
   "source": [
    "from sklearn.datasets import load_breast_cancer\n",
    "cancer = load_breast_cancer()\n",
    "X_train, X_test, y_train, y_test = train_test_split(cancer.data, \n",
    "                                                    cancer.target, \n",
    "                                                    random_state=42)\n",
    "\n",
    "logreg=LogisticRegression().fit(X_train,y_train) #아무 제약도 걸지 않은 상태\n",
    "print(logreg.score(X_train,y_train))\n",
    "print(logreg.score(X_test,y_test))"
   ]
  },
  {
   "cell_type": "code",
   "execution_count": 71,
   "id": "4c6aaabb",
   "metadata": {},
   "outputs": [
    {
     "name": "stdout",
     "output_type": "stream",
     "text": [
      "0.960093896713615\n",
      "0.965034965034965\n"
     ]
    }
   ],
   "source": [
    "logreg5000=LogisticRegression(max_iter=5000).fit(X_train,y_train) #5000번까지 제약을 늘린 상태\n",
    "print(logreg5000.score(X_train,y_train))\n",
    "print(logreg5000.score(X_test,y_test))"
   ]
  },
  {
   "cell_type": "markdown",
   "id": "a79d944c",
   "metadata": {},
   "source": [
    "최적의 알고리즘을 찾아내는 것을 자동화시킬 수 있을까?<br>\n",
    "알고리즘을 돌려보고, 파라미터를 조절하면 자동으로 할 수 있을 것이다.<br>\n",
    "그래서 나온 것이 automated machine learning <br>\n",
    "마이크로소프트에서 데이터 고르고 실험 시작 -> 분류 -> 전처리 / 차원축소 등등 가상머신이 자동으로 해줌<br>"
   ]
  },
  {
   "cell_type": "code",
   "execution_count": null,
   "id": "b5251470",
   "metadata": {},
   "outputs": [],
   "source": []
  },
  {
   "cell_type": "code",
   "execution_count": null,
   "id": "eaf8d15f",
   "metadata": {},
   "outputs": [],
   "source": []
  }
 ],
 "metadata": {
  "kernelspec": {
   "display_name": "Python 3 (ipykernel)",
   "language": "python",
   "name": "python3"
  },
  "language_info": {
   "codemirror_mode": {
    "name": "ipython",
    "version": 3
   },
   "file_extension": ".py",
   "mimetype": "text/x-python",
   "name": "python",
   "nbconvert_exporter": "python",
   "pygments_lexer": "ipython3",
   "version": "3.9.7"
  }
 },
 "nbformat": 4,
 "nbformat_minor": 5
}
