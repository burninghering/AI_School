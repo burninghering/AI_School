{
 "cells": [
  {
   "cell_type": "code",
   "execution_count": 3,
   "id": "0ecd087f",
   "metadata": {},
   "outputs": [
    {
     "ename": "ModuleNotFoundError",
     "evalue": "No module named 'albumentations'",
     "output_type": "error",
     "traceback": [
      "\u001b[1;31m---------------------------------------------------------------------------\u001b[0m",
      "\u001b[1;31mModuleNotFoundError\u001b[0m                       Traceback (most recent call last)",
      "\u001b[1;32m~\\AppData\\Local\\Temp/ipykernel_15936/1492727230.py\u001b[0m in \u001b[0;36m<module>\u001b[1;34m\u001b[0m\n\u001b[0;32m      9\u001b[0m \u001b[1;32mfrom\u001b[0m \u001b[0mPIL\u001b[0m \u001b[1;32mimport\u001b[0m \u001b[0mImage\u001b[0m\u001b[1;33m\u001b[0m\u001b[1;33m\u001b[0m\u001b[0m\n\u001b[0;32m     10\u001b[0m \u001b[1;32mfrom\u001b[0m \u001b[0mmatplotlib\u001b[0m \u001b[1;32mimport\u001b[0m \u001b[0mpyplot\u001b[0m \u001b[1;32mas\u001b[0m \u001b[0mplt\u001b[0m\u001b[1;33m\u001b[0m\u001b[1;33m\u001b[0m\u001b[0m\n\u001b[1;32m---> 11\u001b[1;33m \u001b[1;32mimport\u001b[0m \u001b[0malbumentations\u001b[0m\u001b[1;33m\u001b[0m\u001b[1;33m\u001b[0m\u001b[0m\n\u001b[0m\u001b[0;32m     12\u001b[0m \u001b[1;32mfrom\u001b[0m \u001b[0malbumentations\u001b[0m\u001b[1;33m.\u001b[0m\u001b[0mpytorch\u001b[0m \u001b[1;32mimport\u001b[0m \u001b[0mToTensorV2\u001b[0m\u001b[1;33m\u001b[0m\u001b[1;33m\u001b[0m\u001b[0m\n",
      "\u001b[1;31mModuleNotFoundError\u001b[0m: No module named 'albumentations'"
     ]
    }
   ],
   "source": [
    "import time\n",
    "\n",
    "import torch\n",
    "import torchvision\n",
    "import cv2\n",
    "import numpy as np\n",
    "from torch.utils.data import Dataset\n",
    "from torchvision import transforms\n",
    "from PIL import Image\n",
    "from matplotlib import pyplot as plt\n",
    "import albumentations\n",
    "from albumentations.pytorch import ToTensorV2"
   ]
  },
  {
   "cell_type": "code",
   "execution_count": 4,
   "id": "dfa6fd09",
   "metadata": {},
   "outputs": [
    {
     "name": "stdout",
     "output_type": "stream",
     "text": [
      "Collecting Albumentations\n",
      "  Using cached albumentations-1.1.0-py3-none-any.whl (102 kB)\n",
      "Requirement already satisfied: scipy in c:\\users\\hyerin\\anaconda3\\lib\\site-packages (from Albumentations) (1.7.1)\n",
      "Collecting opencv-python-headless>=4.1.1\n",
      "  Using cached opencv_python_headless-4.5.5.64-cp36-abi3-win_amd64.whl (35.3 MB)\n",
      "Collecting qudida>=0.0.4\n",
      "  Using cached qudida-0.0.4-py3-none-any.whl (3.5 kB)\n",
      "Requirement already satisfied: scikit-image>=0.16.1 in c:\\users\\hyerin\\anaconda3\\lib\\site-packages (from Albumentations) (0.18.3)\n",
      "Requirement already satisfied: numpy>=1.11.1 in c:\\users\\hyerin\\anaconda3\\lib\\site-packages (from Albumentations) (1.20.3)\n",
      "Requirement already satisfied: PyYAML in c:\\users\\hyerin\\anaconda3\\lib\\site-packages (from Albumentations) (6.0)\n",
      "Requirement already satisfied: scikit-learn>=0.19.1 in c:\\users\\hyerin\\anaconda3\\lib\\site-packages (from qudida>=0.0.4->Albumentations) (1.0.2)\n",
      "Requirement already satisfied: typing-extensions in c:\\users\\hyerin\\anaconda3\\lib\\site-packages (from qudida>=0.0.4->Albumentations) (3.10.0.2)\n",
      "Requirement already satisfied: matplotlib!=3.0.0,>=2.0.0 in c:\\users\\hyerin\\anaconda3\\lib\\site-packages (from scikit-image>=0.16.1->Albumentations) (3.4.3)\n",
      "Requirement already satisfied: networkx>=2.0 in c:\\users\\hyerin\\anaconda3\\lib\\site-packages (from scikit-image>=0.16.1->Albumentations) (2.6.3)\n",
      "Requirement already satisfied: pillow!=7.1.0,!=7.1.1,>=4.3.0 in c:\\users\\hyerin\\anaconda3\\lib\\site-packages (from scikit-image>=0.16.1->Albumentations) (8.4.0)\n",
      "Requirement already satisfied: imageio>=2.3.0 in c:\\users\\hyerin\\anaconda3\\lib\\site-packages (from scikit-image>=0.16.1->Albumentations) (2.9.0)\n",
      "Requirement already satisfied: tifffile>=2019.7.26 in c:\\users\\hyerin\\anaconda3\\lib\\site-packages (from scikit-image>=0.16.1->Albumentations) (2021.7.2)\n",
      "Requirement already satisfied: PyWavelets>=1.1.1 in c:\\users\\hyerin\\anaconda3\\lib\\site-packages (from scikit-image>=0.16.1->Albumentations) (1.1.1)\n",
      "Requirement already satisfied: python-dateutil>=2.7 in c:\\users\\hyerin\\anaconda3\\lib\\site-packages (from matplotlib!=3.0.0,>=2.0.0->scikit-image>=0.16.1->Albumentations) (2.8.2)\n",
      "Requirement already satisfied: kiwisolver>=1.0.1 in c:\\users\\hyerin\\anaconda3\\lib\\site-packages (from matplotlib!=3.0.0,>=2.0.0->scikit-image>=0.16.1->Albumentations) (1.3.1)\n",
      "Requirement already satisfied: pyparsing>=2.2.1 in c:\\users\\hyerin\\anaconda3\\lib\\site-packages (from matplotlib!=3.0.0,>=2.0.0->scikit-image>=0.16.1->Albumentations) (3.0.4)\n",
      "Requirement already satisfied: cycler>=0.10 in c:\\users\\hyerin\\anaconda3\\lib\\site-packages (from matplotlib!=3.0.0,>=2.0.0->scikit-image>=0.16.1->Albumentations) (0.10.0)\n",
      "Requirement already satisfied: six in c:\\users\\hyerin\\anaconda3\\lib\\site-packages (from cycler>=0.10->matplotlib!=3.0.0,>=2.0.0->scikit-image>=0.16.1->Albumentations) (1.16.0)\n",
      "Requirement already satisfied: joblib>=0.11 in c:\\users\\hyerin\\anaconda3\\lib\\site-packages (from scikit-learn>=0.19.1->qudida>=0.0.4->Albumentations) (1.1.0)\n",
      "Requirement already satisfied: threadpoolctl>=2.0.0 in c:\\users\\hyerin\\anaconda3\\lib\\site-packages (from scikit-learn>=0.19.1->qudida>=0.0.4->Albumentations) (2.2.0)\n",
      "Installing collected packages: opencv-python-headless, qudida, Albumentations\n",
      "Note: you may need to restart the kernel to use updated packages.\n"
     ]
    },
    {
     "name": "stderr",
     "output_type": "stream",
     "text": [
      "ERROR: Could not install packages due to an OSError: [WinError 5] 액세스가 거부되었습니다: 'C:\\\\Users\\\\hyerin\\\\anaconda3\\\\Lib\\\\site-packages\\\\cv2\\\\cv2.pyd'\n",
      "Consider using the `--user` option or check the permissions.\n",
      "\n"
     ]
    }
   ],
   "source": [
    "pip install -U Albumentations"
   ]
  },
  {
   "cell_type": "code",
   "execution_count": null,
   "id": "01d0ce8e",
   "metadata": {},
   "outputs": [],
   "source": []
  }
 ],
 "metadata": {
  "kernelspec": {
   "display_name": "Python 3 (ipykernel)",
   "language": "python",
   "name": "python3"
  },
  "language_info": {
   "codemirror_mode": {
    "name": "ipython",
    "version": 3
   },
   "file_extension": ".py",
   "mimetype": "text/x-python",
   "name": "python",
   "nbconvert_exporter": "python",
   "pygments_lexer": "ipython3",
   "version": "3.9.7"
  }
 },
 "nbformat": 4,
 "nbformat_minor": 5
}
